{
 "cells": [
  {
   "cell_type": "markdown",
   "metadata": {},
   "source": [
    "## Challenge 1 - Function Creation\n",
    "\n",
    "##### I want you to create a multiply function, that take into two numbers and return whatever thouse numbers are multiplied togheter "
   ]
  },
  {
   "cell_type": "code",
   "execution_count": null,
   "metadata": {},
   "outputs": [],
   "source": [
    "# Define the multiply function below.\n",
    "# Make sure the function returns the correct value!\n",
    "\n",
    "answer = multiply(5,10)"
   ]
  },
  {
   "cell_type": "markdown",
   "metadata": {},
   "source": [
    "## Challenge 2 - Read and Display a given dataset\n",
    "##### Import a given dataset and display all collumns with sample data available at: https://github.com/fivethirtyeight/data/tree/master/college-majors\n",
    "##### Use the recent-grads.csv file. \n",
    "##### In addition estimates the covariance matrix (scatter matrix) using the two variables shared women and the unemployment rate\""
   ]
  },
  {
   "cell_type": "code",
   "execution_count": null,
   "metadata": {},
   "outputs": [],
   "source": []
  },
  {
   "cell_type": "markdown",
   "metadata": {},
   "source": [
    "## Challenge 3 - Load a CNN model with one of your prefered frameworks Keras/TF/Pytorch\n",
    "##### Try to display the model summary and create a confusion matrix for the classification lables (Downstairs, Jogging, Sitting, Standing, Upstairs, Walking)\n",
    "##### Import the datasets and saved model from: https://github.com/ticlazau/itg-data-scientists/tree/main/data"
   ]
  },
  {
   "cell_type": "code",
   "execution_count": null,
   "metadata": {},
   "outputs": [],
   "source": []
  }
 ],
 "metadata": {
  "kernelspec": {
   "display_name": "Python 3",
   "language": "python",
   "name": "python3"
  },
  "language_info": {
   "codemirror_mode": {
    "name": "ipython",
    "version": 3
   },
   "file_extension": ".py",
   "mimetype": "text/x-python",
   "name": "python",
   "nbconvert_exporter": "python",
   "pygments_lexer": "ipython3",
   "version": "3.8.3"
  }
 },
 "nbformat": 4,
 "nbformat_minor": 4
}
